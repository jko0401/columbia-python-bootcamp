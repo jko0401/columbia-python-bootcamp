{
 "cells": [
  {
   "cell_type": "markdown",
   "metadata": {},
   "source": [
    "# Week 3-5"
   ]
  },
  {
   "cell_type": "markdown",
   "metadata": {},
   "source": [
    "## Recursion"
   ]
  },
  {
   "cell_type": "code",
   "execution_count": 4,
   "metadata": {},
   "outputs": [
    {
     "name": "stdout",
     "output_type": "stream",
     "text": [
      "PASSED IN:  [[2, 3], 4]\n",
      "PASSED IN:  [2, 3]\n",
      "HANDED OUT:  [2, 3]\n",
      "HANDED OUT:  [2, 3, 4]\n",
      "PASSED IN:  [5, 6, [[7, 8, [9]]]]\n",
      "PASSED IN:  [[7, 8, [9]]]\n",
      "PASSED IN:  [7, 8, [9]]\n",
      "PASSED IN:  [9]\n",
      "HANDED OUT:  [9]\n",
      "HANDED OUT:  [7, 8, 9]\n",
      "HANDED OUT:  [7, 8, 9]\n",
      "HANDED OUT:  [5, 6, 7, 8, 9]\n"
     ]
    },
    {
     "data": {
      "text/plain": [
       "[0, 1, 2, 3, 4, 5, 6, 7, 8, 9]"
      ]
     },
     "execution_count": 4,
     "metadata": {},
     "output_type": "execute_result"
    }
   ],
   "source": [
    "def flatten(list_):\n",
    "    new_list = []\n",
    "    for item in list_:\n",
    "        if isinstance(item, list):\n",
    "            print('PASSED IN: ', item)\n",
    "            flattened_list = flatten(item)\n",
    "            print('HANDED OUT: ', flattened_list)\n",
    "            new_list.extend(flattened_list)\n",
    "        else:\n",
    "            new_list.append(item)\n",
    "    return new_list\n",
    "\n",
    "list_ = [0, 1, [[2, 3], 4], [5, 6, [[7, 8, [9]]]]]\n",
    "flatten(list_)"
   ]
  },
  {
   "cell_type": "markdown",
   "metadata": {},
   "source": [
    "## Regex"
   ]
  },
  {
   "cell_type": "code",
   "execution_count": 6,
   "metadata": {},
   "outputs": [
    {
     "name": "stdout",
     "output_type": "stream",
     "text": [
      "['Hi', 'my', 'name', 'is', 'Bob.']\n"
     ]
    }
   ],
   "source": [
    "import re\n",
    "pattern = r'\\S+' # inverse of \\s+, which is matching all whitespaces. This will delimit string by whitespaces\n",
    "string = 'Hi my name is Bob.'\n",
    "match = re.findall(pattern, string)\n",
    "print(match)"
   ]
  },
  {
   "cell_type": "code",
   "execution_count": 7,
   "metadata": {},
   "outputs": [
    {
     "name": "stdout",
     "output_type": "stream",
     "text": [
      "Mary-Jo\n",
      "Lue-ellen\n"
     ]
    }
   ],
   "source": [
    "# naming capture groups\n",
    "pattern = r'^(?P<first_name>[A-Za-z-]+) (?P<last_name>[A-Za-z-]+)$'\n",
    "string = 'Mary-Jo Lue-ellen'\n",
    "match = re.match(pattern, string)\n",
    "print(match.group('first_name'))\n",
    "print(match.group('last_name'))"
   ]
  },
  {
   "cell_type": "code",
   "execution_count": 8,
   "metadata": {},
   "outputs": [
    {
     "name": "stdout",
     "output_type": "stream",
     "text": [
      "Mary-Jo\n",
      "Lue-ellen\n"
     ]
    }
   ],
   "source": [
    "# making regex pattern easier to read. searching with flags\n",
    "pattern = r'''\n",
    "    ^                            # match beginning of string\n",
    "    (?P<first_name>[A-Z-]+)      # match first name\n",
    "    \\s+                          # match space\n",
    "    (?P<last_name>[A-Z-]+)       # match last name\n",
    "    $                            # match end of string\n",
    "'''\n",
    "\n",
    "string = 'Mary-Jo Lue-ellen'\n",
    "flags = (\n",
    "    re.IGNORECASE | # match against upper and loswer case with one case\n",
    "    re.VERBOSE      # match with comments\n",
    ")\n",
    "match = re.match(pattern, string, flags=flags)\n",
    "print(match.group('first_name'))\n",
    "print(match.group('last_name'))"
   ]
  },
  {
   "cell_type": "markdown",
   "metadata": {},
   "source": [
    "## OOP"
   ]
  },
  {
   "cell_type": "markdown",
   "metadata": {},
   "source": [
    "1. Abstraction\n",
    "    - User interact with only the data and methods they need. Everything else is hidden.\n",
    "2. Encapsulation\n",
    "    - Data and functions that operate on the data live together,\n",
    "3. Inheritance\n",
    "    - Creating new blue prints from previous one and only overriding what needs to change.\n",
    "4. Polymorphism\n",
    "    - Objects can share method names with objects of separate classes and act like those classes.\n",
    "    Think Car().honk() vs Coupé().honk()"
   ]
  },
  {
   "cell_type": "markdown",
   "metadata": {},
   "source": [
    "Class (self) is the id of the object that is being operating on."
   ]
  },
  {
   "cell_type": "code",
   "execution_count": 4,
   "metadata": {},
   "outputs": [
    {
     "name": "stdout",
     "output_type": "stream",
     "text": [
      "the id of self is 2702249217352\n",
      "the id of c is 2702249217352\n"
     ]
    }
   ],
   "source": [
    "class Car:\n",
    "    def what_is_my_id(self):\n",
    "        print(f'the id of self is {id(self)}')\n",
    "\n",
    "c = Car()\n",
    "c.what_is_my_id()\n",
    "print(f'the id of c is {id(c)}')"
   ]
  },
  {
   "cell_type": "code",
   "execution_count": 5,
   "metadata": {},
   "outputs": [],
   "source": [
    "# good to provide control to certain attributes of the class\n",
    "# example: age is a Human object attribute, good to have a method to prevent setting the age too high\n",
    "\n",
    "class BankAccount:\n",
    "    def __init__(self, init_balance):\n",
    "        self.balance = init_balance\n",
    "    \n",
    "    def get_balance(self):\n",
    "        return self.balance\n",
    "    \n",
    "    def set_balance(self, amount):\n",
    "        if amount < 0:\n",
    "            raise ValueError('Too Low!')\n",
    "        self.balance = amount\n",
    "    \n",
    "    def deposit(self, money):\n",
    "        self.set_balance(self.get_balance() + money) \n",
    "        \n",
    "    def withdraw(self, money):\n",
    "        self.set_balance(self.get_balance() - money) # will trigger set_balance ValueError if withdrawing more than balance"
   ]
  },
  {
   "cell_type": "code",
   "execution_count": 6,
   "metadata": {},
   "outputs": [
    {
     "name": "stdout",
     "output_type": "stream",
     "text": [
      "<__main__.Car object at 0x000002752A9B3D08>\n"
     ]
    }
   ],
   "source": [
    "# default result when printing an object\n",
    "class Car:\n",
    "    pass\n",
    "\n",
    "c = Car()\n",
    "print(str(c))"
   ]
  },
  {
   "cell_type": "code",
   "execution_count": 7,
   "metadata": {},
   "outputs": [
    {
     "name": "stdout",
     "output_type": "stream",
     "text": [
      "Car: $1000\n",
      "Car: $1000\n",
      "<Car 0x2752a9ba1c8 / $1000>\n"
     ]
    }
   ],
   "source": [
    "class Car:\n",
    "    def __init__(self, cost):\n",
    "        self.cost = cost\n",
    "    \n",
    "    def __str__(self): # overrides how the object is printed/casted to a string\n",
    "        return f'Car: ${self.cost}'\n",
    "    \n",
    "    def __repr__(self): # overrides how jupyter notebook prints the object\n",
    "        return f'<Car {hex(id(self))} / ${self.cost}>'\n",
    "    \n",
    "c= Car(1000)\n",
    "print(str(c))\n",
    "print(c)\n",
    "print(repr(c))"
   ]
  },
  {
   "cell_type": "markdown",
   "metadata": {},
   "source": [
    "**Class Level Attributes"
   ]
  },
  {
   "cell_type": "code",
   "execution_count": 8,
   "metadata": {},
   "outputs": [],
   "source": [
    "class Car:\n",
    "    doors = 4 # class level data attribute\n",
    "    \n",
    "    def __init__(self): # class level functional attribute\n",
    "        self.gas = 0 # instance level data attribute\n",
    "        \n",
    "c1 = Car()\n",
    "c2 = Car()\n",
    "c3 = Car()"
   ]
  },
  {
   "cell_type": "code",
   "execution_count": 9,
   "metadata": {},
   "outputs": [
    {
     "name": "stdout",
     "output_type": "stream",
     "text": [
      "c1: 4\n",
      "c2: 4\n",
      "c3: 4\n"
     ]
    }
   ],
   "source": [
    "print('c1:', c1.doors)\n",
    "print('c2:', c2.doors)\n",
    "print('c3:', c3.doors)"
   ]
  },
  {
   "cell_type": "code",
   "execution_count": 11,
   "metadata": {},
   "outputs": [],
   "source": [
    "Car.doors = 2"
   ]
  },
  {
   "cell_type": "code",
   "execution_count": 12,
   "metadata": {},
   "outputs": [
    {
     "name": "stdout",
     "output_type": "stream",
     "text": [
      "c1: 2\n",
      "c2: 2\n",
      "c3: 2\n"
     ]
    }
   ],
   "source": [
    "# easy and quick way to control many objects at once\n",
    "print('c1:', c1.doors)\n",
    "print('c2:', c2.doors)\n",
    "print('c3:', c3.doors)"
   ]
  },
  {
   "cell_type": "code",
   "execution_count": 13,
   "metadata": {},
   "outputs": [
    {
     "name": "stdout",
     "output_type": "stream",
     "text": [
      "c1: 6\n",
      "c2: 2\n"
     ]
    }
   ],
   "source": [
    "c1.doors = 6  # now unique to a single object\n",
    "print('c1:', c1.doors) \n",
    "print('c2:', c2.doors)\n"
   ]
  },
  {
   "cell_type": "markdown",
   "metadata": {},
   "source": [
    "Subclassing"
   ]
  },
  {
   "cell_type": "code",
   "execution_count": 15,
   "metadata": {},
   "outputs": [],
   "source": [
    "class Car:\n",
    "    def honk(self):\n",
    "        # code...\n",
    "        return 'Honk'\n",
    "    \n",
    "class Coupe(Car): # inherits Car. Car is the parent.\n",
    "    def honk(self): # overrides parent's honk method\n",
    "        # new code\n",
    "        return 'Beep'"
   ]
  },
  {
   "cell_type": "code",
   "execution_count": 16,
   "metadata": {},
   "outputs": [
    {
     "data": {
      "text/plain": [
       "'Beep'"
      ]
     },
     "execution_count": 16,
     "metadata": {},
     "output_type": "execute_result"
    }
   ],
   "source": [
    "Coupe().honk()"
   ]
  },
  {
   "cell_type": "code",
   "execution_count": 17,
   "metadata": {},
   "outputs": [],
   "source": [
    "# to reuse parent's code but also add some customization, use Super\n",
    "class Sedan(Car):\n",
    "    def honk(self):\n",
    "        return_value = super().honk()\n",
    "        return return_value + 'Beep'"
   ]
  },
  {
   "cell_type": "code",
   "execution_count": 18,
   "metadata": {},
   "outputs": [
    {
     "data": {
      "text/plain": [
       "'HonkBeep'"
      ]
     },
     "execution_count": 18,
     "metadata": {},
     "output_type": "execute_result"
    }
   ],
   "source": [
    "Sedan().honk()"
   ]
  },
  {
   "cell_type": "markdown",
   "metadata": {},
   "source": [
    "## Computational Complexity"
   ]
  },
  {
   "cell_type": "markdown",
   "metadata": {},
   "source": [
    "- O(1) - Constant time\n",
    "- O(log(n)) - logarithmic time\n",
    "- O(n) - linear time\n",
    "- O(n * log(n)) - linearithmic time\n",
    "- O(n^2) - quadratic time\n",
    "- O(n^c) - polynomial time\n",
    "- O(c^n) - exponential time\n",
    "- O(n!) - factorial time\n",
    "- O(∞) - infinite time"
   ]
  },
  {
   "cell_type": "markdown",
   "metadata": {},
   "source": [
    "## Data Structures"
   ]
  },
  {
   "cell_type": "markdown",
   "metadata": {},
   "source": [
    "### Linked List"
   ]
  },
  {
   "cell_type": "code",
   "execution_count": 24,
   "metadata": {},
   "outputs": [
    {
     "name": "stdout",
     "output_type": "stream",
     "text": [
      "next node: 5\n",
      "next node: 2\n"
     ]
    }
   ],
   "source": [
    "class Node:\n",
    "    def __init__(self, value, next_=None):\n",
    "        self.value = value\n",
    "        self.next = next_\n",
    "    \n",
    "    def __str__(self):\n",
    "        return f'next node: {self.value}'\n",
    "        \n",
    "a = Node(5)\n",
    "b = Node(5, Node(2, Node(9, Node(1))))\n",
    "# 5 2 9 1\n",
    "print(b)\n",
    "print(b.next)"
   ]
  },
  {
   "cell_type": "code",
   "execution_count": null,
   "metadata": {},
   "outputs": [],
   "source": []
  }
 ],
 "metadata": {
  "kernelspec": {
   "display_name": "Python 3",
   "language": "python",
   "name": "python3"
  },
  "language_info": {
   "codemirror_mode": {
    "name": "ipython",
    "version": 3
   },
   "file_extension": ".py",
   "mimetype": "text/x-python",
   "name": "python",
   "nbconvert_exporter": "python",
   "pygments_lexer": "ipython3",
   "version": "3.7.6"
  }
 },
 "nbformat": 4,
 "nbformat_minor": 4
}
