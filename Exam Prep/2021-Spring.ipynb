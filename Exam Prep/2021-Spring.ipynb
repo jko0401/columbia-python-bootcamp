{
 "cells": [
  {
   "cell_type": "markdown",
   "metadata": {},
   "source": [
    "<subject>\n",
    "Assignment How-To\n",
    "</subject>\n",
    "\n",
    "<details>\n",
    "    \n",
    "**Do Not Talk During Quizzes or Exams**\n",
    "\n",
    "Do not talk at all once an exam has begun. You may talk again once you leave the room after the quiz or exam. The one exception to this rule is if you need to ask the exam proctor a question. Any talking during a quiz or exam qualifies the student for disciplinary action.\n",
    "\n",
    "**Naming Conventions**\n",
    "\n",
    "When naming your files for upload, you must follow the format below:\n",
    "\n",
    "    <uni>_<assignment>_<details [optional]>.<extension>\n",
    "\n",
    "For example, if I needed to hand in HW 0, any of the below formats would be sufficient for a file name:\n",
    "\n",
    "- pl2648_hw0.ipynb\n",
    "- pl2648_hw0.txt\n",
    "- pl2648_hw0.sh\n",
    "- pl2648_hw0_all_in_one.txt\n",
    "- Pl2648_hw0_bash_program.sh\n",
    "- Pl2648_quiz1.ipynb\n",
    "\n",
    "This naming format allows for autograding of all assignments. If your files are not named with this format, you should expect a grade of zero for the assignment.\n",
    "\n",
    "Courseworks may rename your file to something like `pl2648_hw0-1.ipynb` if you resubmit your assignment. This is perfectly fine.\n",
    "\n",
    "**What Format To Submit In**\n",
    "\n",
    "Most homework and quizzes are in Jupyter notebooks. Unless specified otherwise, please download your work as an `.ipynb` file from your local machine and upload it to courseworks.\n",
    "\n",
    "\n",
    "**Grading**\n",
    "\n",
    "Possible points on late assignments are deducted by 50% for each day they are late. For example, if you get 80% of the total possible credits on a homework but hand in that homework a day late, you would get 40%. Assignments two days late get zero points.\n",
    "\n",
    "Once solutions are posted and graded assignments are handed back, students have 1 week to bring their grading discrepancies to a CA for consideration of possible grading errors. \n",
    "\n",
    "Because grading is automated, please delete (or comment out) the `raise NotImplmeneted` code before attempting a problem. \n",
    "\n",
    "Empty un-editable cells in an assignment are there for a purpose. They will be filled with tests by the automatic grader. Please do not attempt to remove them.\n",
    "\n",
    "**Getting Help**\n",
    "\n",
    "Asking for help is a great way to increase your chance of success. However there are some rules. When asking for help (especially from a fellow student), *you can show your helper your code but you can not view theirs*. You work needs to be your own. You can not post screenshots of your current work to Piazza or other tools used for getting help.\n",
    "\n",
    "If you need to reach out to a CA for help, please do so via Piazza and not via email. Answers given via Piazza will help you as well as other students. Thus, emails will always have a lower priority for response than Piazza questions. If you do email the CA, please make a note of what section you are in. This helps us identify you in courseworks faster. \n",
    "\n",
    "Finally, if you do not get a repsonse from a CA within 48 hours, you may email the professor.\n",
    "\n",
    "**Multiple Choice**\n",
    "\n",
    "If the question is multiple choice, you will be given several options to choose from and your function will need to return **one** of those options **verbatim** as a string.\n",
    "\n",
    "For example: \n",
    "\n",
    "Which of the following animals bark?\n",
    "\n",
    "- dogs\n",
    "- cats\n",
    "- fish\n",
    "- trees\n",
    "\n",
    "A correct answer would be structured in the following way:\n",
    "\n",
    "```python\n",
    "def question_animals():\n",
    "    return 'dogs'\n",
    "```\n",
    "\n",
    "You answer will be stripped of left and right white space and lowercased before comparison to the correct answer during grading.\n",
    "</details>"
   ]
  },
  {
   "cell_type": "markdown",
   "metadata": {
    "deletable": false,
    "editable": false,
    "nbgrader": {
     "cell_type": "markdown",
     "checksum": "0ae5291b5cfd7820ccbcdb9b823d40b2",
     "grade": false,
     "grade_id": "cell-ef5b66d42bd77e43",
     "locked": true,
     "schema_version": 3,
     "solution": false
    }
   },
   "source": [
    "READ ME:\n",
    "\n",
    "Permissions for this test: \n",
    "\n",
    "- No talking until you have left the room.\n",
    "- This is a closed note, closed book, closed internet exam. You may not use those resources during this exam.\n",
    "- You may have one jupyter notebook (this notebook) open for the duration of the exam.\n",
    "- You may have one tab open solely for the act of submitting your exam.\n",
    "\n",
    "To  begin the exam:\n",
    "\n",
    "- **Rename the notebook to be of the form `<uni>_exam`. For example, mine would be `pl2648_exam`.**\n",
    "\n",
    "When you are done with your exam:\n",
    "\n",
    "1. Save this exam.\n",
    "1. Download this exam from your Jupyter Notebook tab as an **`.ipynb`** file.\n",
    "1. Upload/email/etc the **`.ipynb`** file to the submission platform designated by the exam proctor.\n",
    "\n",
    "----\n",
    "\n",
    "Please note, there are several cells in this Jupyter notebook that are empty and read only. Do not attempt to remove them or edit them. They are used in grading your notebook.\n",
    "\n",
    "- DO remove the \"Not Implemented\" lines if you at all attempt the problem.\n",
    "- DO test all cells to make sure they run in 30 seconds or less.\n",
    "\n",
    "Finally, spelling counts! If you are told to create a function, class, variable by a specific name then do so with the name and capitalization exaclty as given. Otherwise you will loose most points. Because of this, its best to copy and paste the names as they are given."
   ]
  },
  {
   "cell_type": "markdown",
   "metadata": {
    "deletable": false,
    "editable": false,
    "nbgrader": {
     "cell_type": "markdown",
     "checksum": "8dbd9860fbede76205f9d2239bb3ea7a",
     "grade": false,
     "grade_id": "cell-129aa5426cd81ef8",
     "locked": true,
     "schema_version": 3,
     "solution": false
    }
   },
   "source": [
    "### Question\n",
    "\n",
    "Write a class named `DatabaseConnection`. This class should have a method named `start`. The `start` method should take 0.75 seconds to run to mimic the delay of connecting to a database. The class should have a single instance level data attribute named `conn` that initializes to `None`. `start` should set this attribute to the `id` of the `DatabaseConnection` object on which `start` was called."
   ]
  },
  {
   "cell_type": "code",
   "execution_count": 5,
   "metadata": {
    "deletable": false,
    "nbgrader": {
     "cell_type": "code",
     "checksum": "903f121f61f7b158f1d2bf28001c692a",
     "grade": false,
     "grade_id": "cell-f6292be44440b141",
     "locked": false,
     "schema_version": 3,
     "solution": true
    }
   },
   "outputs": [],
   "source": [
    "import time\n",
    "\n",
    "class DatabaseConnection:\n",
    "    def __init__(self): \n",
    "        self.conn = None \n",
    "    \n",
    "    def start(self):\n",
    "        time.sleep(0.75)\n",
    "        self.conn = id(self)"
   ]
  },
  {
   "cell_type": "code",
   "execution_count": 10,
   "metadata": {},
   "outputs": [
    {
     "data": {
      "text/plain": [
       "2151874765960"
      ]
     },
     "execution_count": 10,
     "metadata": {},
     "output_type": "execute_result"
    }
   ],
   "source": [
    "db = DatabaseConnection()\n",
    "db.start()\n",
    "db.conn"
   ]
  },
  {
   "cell_type": "code",
   "execution_count": 11,
   "metadata": {},
   "outputs": [
    {
     "name": "stdout",
     "output_type": "stream",
     "text": [
      "2151874765960\n"
     ]
    }
   ],
   "source": [
    "print(id(db))"
   ]
  },
  {
   "cell_type": "code",
   "execution_count": null,
   "metadata": {
    "deletable": false,
    "editable": false,
    "nbgrader": {
     "cell_type": "code",
     "checksum": "35b2424fa6161620d7d783d6db094a6e",
     "grade": true,
     "grade_id": "cell-5f96a0a457e8e683",
     "locked": true,
     "points": 1,
     "schema_version": 3,
     "solution": false
    }
   },
   "outputs": [],
   "source": []
  },
  {
   "cell_type": "code",
   "execution_count": null,
   "metadata": {
    "deletable": false,
    "editable": false,
    "nbgrader": {
     "cell_type": "code",
     "checksum": "b720237e124ea577e03a868705784fdc",
     "grade": true,
     "grade_id": "cell-3dbb9b42ee84c45c",
     "locked": true,
     "points": 1,
     "schema_version": 3,
     "solution": false
    }
   },
   "outputs": [],
   "source": []
  },
  {
   "cell_type": "code",
   "execution_count": null,
   "metadata": {
    "deletable": false,
    "editable": false,
    "nbgrader": {
     "cell_type": "code",
     "checksum": "b9f01cacd606ae43a562457f6a3ca958",
     "grade": true,
     "grade_id": "cell-5522a574dfe4aee0",
     "locked": true,
     "points": 1,
     "schema_version": 3,
     "solution": false
    }
   },
   "outputs": [],
   "source": []
  },
  {
   "cell_type": "code",
   "execution_count": null,
   "metadata": {
    "deletable": false,
    "editable": false,
    "nbgrader": {
     "cell_type": "code",
     "checksum": "e5d3cfd4d3062a2aaf3abebe20e00ea0",
     "grade": true,
     "grade_id": "cell-8aa171dd5937dad5",
     "locked": true,
     "points": 1,
     "schema_version": 3,
     "solution": false
    }
   },
   "outputs": [],
   "source": []
  },
  {
   "cell_type": "markdown",
   "metadata": {
    "deletable": false,
    "editable": false,
    "nbgrader": {
     "cell_type": "markdown",
     "checksum": "118f29f32a551628e6116154cdf186f3",
     "grade": false,
     "grade_id": "cell-9a7e22503982d594",
     "locked": true,
     "schema_version": 3,
     "solution": false
    }
   },
   "source": [
    "### Question \n",
    "\n",
    "Create a function named `iterable_to_dict`. This function should take any iterable and add its members to a dictionary as members of lists where the member containing lists are the values of the dictionary. The key for each value (each list) should be the first list item's address in memory expressed as a hex address string. If a value for the optional keyword argument `key_func` is passed to the function, the `key_func` should be used to determine an item's key. Each item should be passed to `key_func` to determine the list's key. If there is a key collision, the list of items for a particular key should be increased to include the new item.\n",
    "\n",
    "For example:\n",
    "\n",
    "```python\n",
    "iterable_to_dict((1, 2, 3, 4, 5))\n",
    "{'0x109258440': [1],\n",
    " '0x109258460': [2],\n",
    " '0x109258480': [3],\n",
    " '0x1092584a0': [4],\n",
    " '0x1092584c0': [5]}\n",
    "\n",
    "iterable_to_dict((1, 2, 3, 4, 5), key_func=lambda x: x % 2)\n",
    "{1: [1, 3, 5], 0: [2, 4]}\n",
    "```"
   ]
  },
  {
   "cell_type": "code",
   "execution_count": 20,
   "metadata": {
    "deletable": false,
    "nbgrader": {
     "cell_type": "code",
     "checksum": "e15494fb93acab3f62e55b2b747e1bf6",
     "grade": false,
     "grade_id": "cell-9a0363302483e2d1",
     "locked": false,
     "schema_version": 3,
     "solution": true
    }
   },
   "outputs": [],
   "source": [
    "def iterable_to_dict(iterable, key_func=None, **kwargs):\n",
    "    if key_func is None:\n",
    "        new_dict = {hex(value):[value] for value in iterable}\n",
    "    else:\n",
    "        new_dict = {key_func(i):[j for j in iterable if key_func(j) == key_func(i)] for i in iterable}\n",
    "    return new_dict"
   ]
  },
  {
   "cell_type": "code",
   "execution_count": 21,
   "metadata": {},
   "outputs": [
    {
     "data": {
      "text/plain": [
       "{1: [1, 3, 5], 0: [2, 4]}"
      ]
     },
     "execution_count": 21,
     "metadata": {},
     "output_type": "execute_result"
    }
   ],
   "source": [
    "iterable_to_dict((1, 2, 3, 4, 5), key_func=lambda x: x % 2)"
   ]
  },
  {
   "cell_type": "code",
   "execution_count": null,
   "metadata": {
    "deletable": false,
    "editable": false,
    "nbgrader": {
     "cell_type": "code",
     "checksum": "b3e42f71b5500cf58741196adc009662",
     "grade": true,
     "grade_id": "cell-9efae76d7cc2794e",
     "locked": true,
     "points": 1,
     "schema_version": 3,
     "solution": false
    }
   },
   "outputs": [],
   "source": []
  },
  {
   "cell_type": "code",
   "execution_count": null,
   "metadata": {
    "deletable": false,
    "editable": false,
    "nbgrader": {
     "cell_type": "code",
     "checksum": "cfd8b1b05ef4ede3f9c9f5e0a7d561af",
     "grade": true,
     "grade_id": "cell-755c9190b5a51c9b",
     "locked": true,
     "points": 1,
     "schema_version": 3,
     "solution": false
    }
   },
   "outputs": [],
   "source": []
  },
  {
   "cell_type": "code",
   "execution_count": null,
   "metadata": {
    "deletable": false,
    "editable": false,
    "nbgrader": {
     "cell_type": "code",
     "checksum": "31006902c287a70ee1f884c6eedc899f",
     "grade": true,
     "grade_id": "cell-8e8d94dca63e0546",
     "locked": true,
     "points": 1,
     "schema_version": 3,
     "solution": false
    }
   },
   "outputs": [],
   "source": []
  },
  {
   "cell_type": "markdown",
   "metadata": {
    "deletable": false,
    "editable": false,
    "nbgrader": {
     "cell_type": "markdown",
     "checksum": "06f412d9632cbee6d750695da0ac721a",
     "grade": false,
     "grade_id": "cell-13fa838cb24b1967",
     "locked": true,
     "schema_version": 3,
     "solution": false
    }
   },
   "source": [
    "### Question\n",
    "\n",
    "\n",
    "Nginx is a program for serving web pages. It produces logs where each line in the log is of the form:\n",
    "\n",
    "```\n",
    "54.198.150.62 - - [20/Dec/2018:06:25:12 +0000] \"GET /path/to/file/ HTTP/1.1\" 200 927 \"-\" \"Faraday v0.12.2\"\n",
    "```\n",
    "\n",
    "The portions of each line are:\n",
    "\n",
    "- the IP address [54.198.150.62]\n",
    "- two dashes [- -]\n",
    "- the datetime (with timezone)[[20/Dec/2018:06:25:12 +0000]]\n",
    "- the accessed path (with access method and http version) [\"GET /path/to/file/ HTTP/1.1\"]\n",
    "- the server's return code [200]\n",
    "- the size of the returned page in bytes [927]\n",
    "- the referrer (sometimes just a dash) [\"-\"]\n",
    "- the user agent (sometimes just a dash) [\"Faraday v0.12.2\"]\n",
    "\n",
    "Write a regex expression to parse nginx log lines like the one above. The regex needs to capture named groups. The named groups should be `ip`, `datetime`, `method`, `path`, `code`. The `datetime` group should include the timezone information. If the line above were passed through the regex pattern, the following match object would result:\n",
    "\n",
    "- match.group('ip') -> '54.198.150.62'\n",
    "- match.group('datetime') -> '20/Dec/2018:06:25:12 +0000'\n",
    "- match.group('method') -> 'GET'\n",
    "- match.group('path') -> '/path/to/file/'\n",
    "- match.group('code') -> '200'\n"
   ]
  },
  {
   "cell_type": "code",
   "execution_count": 3,
   "metadata": {
    "deletable": false,
    "nbgrader": {
     "cell_type": "code",
     "checksum": "106039d2e9e7a0a8396bc7df4fe1ba0b",
     "grade": false,
     "grade_id": "re",
     "locked": false,
     "schema_version": 3,
     "solution": true
    }
   },
   "outputs": [],
   "source": [
    "import re\n",
    "\n",
    "def parse_log_line(log_line):\n",
    "    pattern_string = r'''\n",
    "        ^(?P<ip>(\\d{1,}.){3}\\d{1,})\\s+\n",
    "        -\\s+\n",
    "        -\\s+\n",
    "        (?P<datetime>([.*]))\\s+\n",
    "        (?P<method>(\\w{3,4})(?= /))\n",
    "        (?P<path>(?<=(\"(\\w\\w\\w)))(/\\w+/(?!(\" ))))\n",
    "        (?P<code>(?<=(\" ))(\\d{3})(?!(\\d+ \")))\n",
    "    '''\n",
    "    flags = (\n",
    "    re.IGNORECASE | # match against upper and loswer case with one case\n",
    "    re.VERBOSE      # match with comments\n",
    "    )\n",
    "    return re.match(pattern_string, log_line, flags=flags)"
   ]
  },
  {
   "cell_type": "code",
   "execution_count": 4,
   "metadata": {},
   "outputs": [
    {
     "ename": "AttributeError",
     "evalue": "'NoneType' object has no attribute 'group'",
     "output_type": "error",
     "traceback": [
      "\u001b[1;31m---------------------------------------------------------------------------\u001b[0m",
      "\u001b[1;31mAttributeError\u001b[0m                            Traceback (most recent call last)",
      "\u001b[1;32m<ipython-input-4-dd8965b4ebd7>\u001b[0m in \u001b[0;36m<module>\u001b[1;34m\u001b[0m\n\u001b[0;32m      1\u001b[0m \u001b[0mmatch\u001b[0m \u001b[1;33m=\u001b[0m \u001b[0mparse_log_line\u001b[0m\u001b[1;33m(\u001b[0m\u001b[1;34m'54.198.150.62 - - [20/Dec/2018:06:25:12 +0000] \"GET /path/to/file/ HTTP/1.1\" 200 927 \"-\" \"Faraday v0.12.2\"'\u001b[0m\u001b[1;33m)\u001b[0m\u001b[1;33m\u001b[0m\u001b[1;33m\u001b[0m\u001b[0m\n\u001b[1;32m----> 2\u001b[1;33m \u001b[0mprint\u001b[0m\u001b[1;33m(\u001b[0m\u001b[0mmatch\u001b[0m\u001b[1;33m.\u001b[0m\u001b[0mgroup\u001b[0m\u001b[1;33m(\u001b[0m\u001b[1;34m'path'\u001b[0m\u001b[1;33m)\u001b[0m\u001b[1;33m)\u001b[0m\u001b[1;33m\u001b[0m\u001b[1;33m\u001b[0m\u001b[0m\n\u001b[0m",
      "\u001b[1;31mAttributeError\u001b[0m: 'NoneType' object has no attribute 'group'"
     ]
    }
   ],
   "source": [
    "match = parse_log_line('54.198.150.62 - - [20/Dec/2018:06:25:12 +0000] \"GET /path/to/file/ HTTP/1.1\" 200 927 \"-\" \"Faraday v0.12.2\"')\n",
    "print(match.group('path'))"
   ]
  },
  {
   "cell_type": "code",
   "execution_count": null,
   "metadata": {
    "deletable": false,
    "editable": false,
    "nbgrader": {
     "cell_type": "code",
     "checksum": "cf3c862c1821ee54a37394b7214a1f33",
     "grade": true,
     "grade_id": "cell-2cf89dead6cbc6dd",
     "locked": true,
     "points": 1,
     "schema_version": 3,
     "solution": false
    }
   },
   "outputs": [],
   "source": []
  },
  {
   "cell_type": "code",
   "execution_count": null,
   "metadata": {
    "deletable": false,
    "editable": false,
    "nbgrader": {
     "cell_type": "code",
     "checksum": "f5bd91053886cbcc0d38a3a6ab47b87b",
     "grade": true,
     "grade_id": "cell-eedca7e1c0c87482",
     "locked": true,
     "points": 1,
     "schema_version": 3,
     "solution": false
    }
   },
   "outputs": [],
   "source": []
  },
  {
   "cell_type": "code",
   "execution_count": null,
   "metadata": {
    "deletable": false,
    "editable": false,
    "nbgrader": {
     "cell_type": "code",
     "checksum": "7f7723f8802ee86e34a6ced4beba9fb6",
     "grade": true,
     "grade_id": "cell-24b78f75ff5a2ee3",
     "locked": true,
     "points": 1,
     "schema_version": 3,
     "solution": false
    }
   },
   "outputs": [],
   "source": []
  },
  {
   "cell_type": "code",
   "execution_count": null,
   "metadata": {
    "deletable": false,
    "editable": false,
    "nbgrader": {
     "cell_type": "code",
     "checksum": "506004ce346c2c99fb41950869714ef3",
     "grade": true,
     "grade_id": "cell-3bee4aa39f0af414",
     "locked": true,
     "points": 1,
     "schema_version": 3,
     "solution": false
    }
   },
   "outputs": [],
   "source": []
  },
  {
   "cell_type": "code",
   "execution_count": null,
   "metadata": {
    "deletable": false,
    "editable": false,
    "nbgrader": {
     "cell_type": "code",
     "checksum": "bc09735b9cc4d37c95a2fd7223333c4b",
     "grade": true,
     "grade_id": "cell-46c1f5f5cf5e04af",
     "locked": true,
     "points": 1,
     "schema_version": 3,
     "solution": false
    }
   },
   "outputs": [],
   "source": []
  },
  {
   "cell_type": "markdown",
   "metadata": {
    "deletable": false,
    "editable": false,
    "nbgrader": {
     "cell_type": "markdown",
     "checksum": "e8dea7f21b1c580d7cb14dba9b96d7c8",
     "grade": false,
     "grade_id": "cell-8e75d108b8f942eb",
     "locked": true,
     "schema_version": 3,
     "solution": false
    }
   },
   "source": [
    "### Question\n",
    "\n",
    "Create a function called `binary_search`. It should take an `item` and a `sorted_list` as its two positional arguments. They must be defined in that order.\n",
    "\n",
    "Return `True` if `item` is in `sorted_list` and `False` if not. Your function must implement the binary_search algorithm using recursion. Assume that all members of `sorted_list` are integers. If you use except clauses, they must not be bare (ie. they must catch one or more specific error types)."
   ]
  },
  {
   "cell_type": "code",
   "execution_count": 129,
   "metadata": {
    "deletable": false,
    "nbgrader": {
     "cell_type": "code",
     "checksum": "bef7296ff187b9c302910f4ac1466cfb",
     "grade": false,
     "grade_id": "cell-acf00b5f7ee7b460",
     "locked": false,
     "schema_version": 3,
     "solution": true
    }
   },
   "outputs": [],
   "source": [
    "def binary_search(item, sorted_list):\n",
    "    mid = len(sorted_list) // 2\n",
    "    try:\n",
    "        if item > sorted_list[mid]:\n",
    "            return binary_search(item, sorted_list[mid:])\n",
    "        elif item < sorted_list[mid]:\n",
    "            return binary_search(item, sorted_list[:mid])\n",
    "        elif item == sorted_list[mid]:\n",
    "            return True\n",
    "    except RecursionError:\n",
    "        return False\n",
    "    "
   ]
  },
  {
   "cell_type": "code",
   "execution_count": 131,
   "metadata": {},
   "outputs": [
    {
     "name": "stdout",
     "output_type": "stream",
     "text": [
      "True\n"
     ]
    }
   ],
   "source": [
    "test = binary_search(2, [1, 2, 5, 6, 8, 10])\n",
    "print(test)"
   ]
  },
  {
   "cell_type": "code",
   "execution_count": null,
   "metadata": {
    "deletable": false,
    "editable": false,
    "nbgrader": {
     "cell_type": "code",
     "checksum": "f18fe234023485c215bfaff188efc149",
     "grade": true,
     "grade_id": "cell-adf4b387b1291f65",
     "locked": true,
     "points": 1,
     "schema_version": 3,
     "solution": false
    }
   },
   "outputs": [],
   "source": []
  },
  {
   "cell_type": "code",
   "execution_count": null,
   "metadata": {
    "deletable": false,
    "editable": false,
    "nbgrader": {
     "cell_type": "code",
     "checksum": "3348fb3a972adcefed67eda01c94d0a2",
     "grade": true,
     "grade_id": "cell-7562392f1adac552",
     "locked": true,
     "points": 1,
     "schema_version": 3,
     "solution": false
    }
   },
   "outputs": [],
   "source": []
  },
  {
   "cell_type": "code",
   "execution_count": null,
   "metadata": {
    "deletable": false,
    "editable": false,
    "nbgrader": {
     "cell_type": "code",
     "checksum": "d5281b103e0fd08333aedf4990a2ebd3",
     "grade": true,
     "grade_id": "cell-0eec1e0f984bf424",
     "locked": true,
     "points": 0,
     "schema_version": 3,
     "solution": false
    }
   },
   "outputs": [],
   "source": []
  },
  {
   "cell_type": "code",
   "execution_count": null,
   "metadata": {
    "deletable": false,
    "editable": false,
    "nbgrader": {
     "cell_type": "code",
     "checksum": "cd66eb3446bee0a9d675d85146802cf7",
     "grade": true,
     "grade_id": "cell-65abe2c0f3e9af4f",
     "locked": true,
     "points": 1,
     "schema_version": 3,
     "solution": false
    }
   },
   "outputs": [],
   "source": []
  }
 ],
 "metadata": {
  "anaconda-cloud": {},
  "kernelspec": {
   "display_name": "Python 3",
   "language": "python",
   "name": "python3"
  },
  "language_info": {
   "codemirror_mode": {
    "name": "ipython",
    "version": 3
   },
   "file_extension": ".py",
   "mimetype": "text/x-python",
   "name": "python",
   "nbconvert_exporter": "python",
   "pygments_lexer": "ipython3",
   "version": "3.7.6"
  }
 },
 "nbformat": 4,
 "nbformat_minor": 4
}
