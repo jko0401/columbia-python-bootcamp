{
 "cells": [
  {
   "cell_type": "markdown",
   "metadata": {},
   "source": [
    "# Week 2 Notes"
   ]
  },
  {
   "cell_type": "markdown",
   "metadata": {},
   "source": [
    "## Memory"
   ]
  },
  {
   "cell_type": "code",
   "execution_count": null,
   "metadata": {},
   "outputs": [],
   "source": [
    "l = [1, 2, 3]\n",
    "id(l)\n",
    "hex(id(l)) "
   ]
  },
  {
   "cell_type": "markdown",
   "metadata": {},
   "source": [
    "## Comprehension"
   ]
  },
  {
   "cell_type": "code",
   "execution_count": 1,
   "metadata": {},
   "outputs": [
    {
     "data": {
      "text/plain": [
       "[1, 2, 3, 4, 5, 6, 7, 8, 9, 10]"
      ]
     },
     "execution_count": 1,
     "metadata": {},
     "output_type": "execute_result"
    }
   ],
   "source": [
    "[i + 1 for i in range(10)]\n",
    "# [BODY for i in range(10)]"
   ]
  },
  {
   "cell_type": "code",
   "execution_count": 2,
   "metadata": {},
   "outputs": [
    {
     "data": {
      "text/plain": [
       "[('x0', 'y0'),\n",
       " ('x0', 'y1'),\n",
       " ('x1', 'y0'),\n",
       " ('x1', 'y1'),\n",
       " ('x2', 'y0'),\n",
       " ('x2', 'y1')]"
      ]
     },
     "execution_count": 2,
     "metadata": {},
     "output_type": "execute_result"
    }
   ],
   "source": [
    "# nested comprehensions\n",
    "[\n",
    "    ('x' + str(x), 'y' + str(y)) #body. resulting data structure\n",
    "    for x in range(3) # outer loop\n",
    "    for y in range(2) # inner loop\n",
    "]"
   ]
  },
  {
   "cell_type": "code",
   "execution_count": 3,
   "metadata": {},
   "outputs": [
    {
     "data": {
      "text/plain": [
       "{1: 1, 3: 9, 5: 25, 7: 49, 9: 81}"
      ]
     },
     "execution_count": 3,
     "metadata": {},
     "output_type": "execute_result"
    }
   ],
   "source": [
    "# dictionary comprehension\n",
    "{x: x**2 for x in range(10) if x % 2}"
   ]
  },
  {
   "cell_type": "code",
   "execution_count": 4,
   "metadata": {},
   "outputs": [
    {
     "data": {
      "text/plain": [
       "{1, 3, 5, 7, 9}"
      ]
     },
     "execution_count": 4,
     "metadata": {},
     "output_type": "execute_result"
    }
   ],
   "source": [
    "# set \n",
    "{x for x in range(10) if x % 2}"
   ]
  },
  {
   "cell_type": "code",
   "execution_count": 6,
   "metadata": {},
   "outputs": [
    {
     "data": {
      "text/plain": [
       "<generator object <genexpr> at 0x00000245C4FDA5C8>"
      ]
     },
     "execution_count": 6,
     "metadata": {},
     "output_type": "execute_result"
    }
   ],
   "source": [
    "g = (x for x in range(10)) #generates in object, need to cast \n",
    "g"
   ]
  },
  {
   "cell_type": "code",
   "execution_count": 7,
   "metadata": {},
   "outputs": [
    {
     "data": {
      "text/plain": [
       "(0, 1, 2, 3, 4, 5, 6, 7, 8, 9)"
      ]
     },
     "execution_count": 7,
     "metadata": {},
     "output_type": "execute_result"
    }
   ],
   "source": [
    "tuple(g)"
   ]
  },
  {
   "cell_type": "markdown",
   "metadata": {},
   "source": [
    "## Functions"
   ]
  },
  {
   "cell_type": "code",
   "execution_count": 10,
   "metadata": {},
   "outputs": [
    {
     "name": "stdout",
     "output_type": "stream",
     "text": [
      "(3,)\n"
     ]
    }
   ],
   "source": [
    "# create functions with flexible arguments like print()\n",
    "def myfunc(arg1, arg2, *args): # accepts 2 or more\n",
    "    print(args)\n",
    "\n",
    "myfunc(1, 2, 3) # extra args get wrapped into a tuple labled args"
   ]
  },
  {
   "cell_type": "code",
   "execution_count": 11,
   "metadata": {},
   "outputs": [
    {
     "name": "stdout",
     "output_type": "stream",
     "text": [
      "{'a': 1, 'b': 2, 'c': 3}\n"
     ]
    }
   ],
   "source": [
    "# flexible number of keyword arguments\n",
    "def myfunc(**kwargs):\n",
    "    print(kwargs)\n",
    "\n",
    "myfunc(a = 1, b = 2, c = 3) # packaged into a dictionary"
   ]
  },
  {
   "cell_type": "code",
   "execution_count": 12,
   "metadata": {},
   "outputs": [
    {
     "name": "stdout",
     "output_type": "stream",
     "text": [
      "1\n",
      "2\n",
      "(3, 5)\n",
      "{'k': 1, 'j': 4}\n"
     ]
    }
   ],
   "source": [
    "def myfunc(a, b=40, *args, **kwargs): # order of arguments: positional, defined, *args, **kwargs\n",
    "    print(a)\n",
    "    print(b)\n",
    "    print(args)\n",
    "    print(kwargs)\n",
    "\n",
    "myfunc(1, 2, 3, 5, k=1, j=4)"
   ]
  },
  {
   "cell_type": "markdown",
   "metadata": {},
   "source": [
    "## **kwargs mutability"
   ]
  },
  {
   "cell_type": "code",
   "execution_count": 14,
   "metadata": {},
   "outputs": [
    {
     "name": "stdout",
     "output_type": "stream",
     "text": [
      "[]\n",
      "['Hi']\n",
      "['Hi', 'Hi']\n",
      "['Hi', 'Hi', 'Hi']\n",
      "None\n"
     ]
    }
   ],
   "source": [
    "# harder to keep track of mutable objects when passing into functions\n",
    "def afunc(list_):\n",
    "    list_.append('Hi')\n",
    "\n",
    "l = []\n",
    "print(l)\n",
    "afunc(l)\n",
    "print(l)\n",
    "afunc(l)\n",
    "print(l)\n",
    "afunc(l)\n",
    "print(l)\n",
    "afunc(l)\n",
    "\n",
    "l = afunc(l)\n",
    "print(l)"
   ]
  },
  {
   "cell_type": "code",
   "execution_count": 15,
   "metadata": {},
   "outputs": [
    {
     "name": "stdout",
     "output_type": "stream",
     "text": [
      "['Hi']\n",
      "['Hi']\n",
      "['Hi']\n"
     ]
    }
   ],
   "source": [
    "# creating a pure function can be easier to track and debug\n",
    "def afunc(list_):\n",
    "    internal_list = list(list_) # casting list to a list makes a hard copy\n",
    "    internal_list.append('Hi')\n",
    "    return internal_list\n",
    "\n",
    "l = []\n",
    "print(afunc(l))\n",
    "print(afunc(l))\n",
    "print(afunc(l))"
   ]
  },
  {
   "cell_type": "code",
   "execution_count": 16,
   "metadata": {},
   "outputs": [
    {
     "name": "stdout",
     "output_type": "stream",
     "text": [
      "['Hi']\n",
      "['Hi', 'Hi']\n",
      "['Hi', 'Hi', 'Hi']\n"
     ]
    }
   ],
   "source": [
    "def afunc(list_=[]): # not a pure function. the default value is stored in memory. if using a mutable object like a list, it can be changed\n",
    "    list_.append('Hi')\n",
    "    return list_\n",
    "\n",
    "print(afunc())\n",
    "print(afunc())\n",
    "print(afunc())\n"
   ]
  },
  {
   "cell_type": "code",
   "execution_count": 18,
   "metadata": {},
   "outputs": [
    {
     "name": "stdout",
     "output_type": "stream",
     "text": [
      "['H', 'i', 'Hi']\n",
      "['Hi']\n",
      "['Hi']\n"
     ]
    }
   ],
   "source": [
    "# create default value with immutables\n",
    "def afunc(list_=None):\n",
    "    internal = list_ or [] # if value is truthy i.e. passed a non-empty list, use pass value. if value is falsy i.e. empty, pass new empty list\n",
    "    internal = list(internal)\n",
    "    internal.append('Hi')\n",
    "    return internal\n",
    "\n",
    "print(afunc('Hi'))\n",
    "print(afunc())\n",
    "print(afunc())"
   ]
  },
  {
   "cell_type": "markdown",
   "metadata": {},
   "source": [
    "## Lambda Functions"
   ]
  },
  {
   "cell_type": "code",
   "execution_count": 19,
   "metadata": {},
   "outputs": [
    {
     "name": "stdout",
     "output_type": "stream",
     "text": [
      "Using a named function: \n",
      "[1, 4, 9]\n"
     ]
    }
   ],
   "source": [
    "def named(x):\n",
    "    return x**2\n",
    "\n",
    "print('Using a named function: ')\n",
    "print(list(map(named, [1, 2, 3])))"
   ]
  },
  {
   "cell_type": "code",
   "execution_count": 20,
   "metadata": {},
   "outputs": [
    {
     "name": "stdout",
     "output_type": "stream",
     "text": [
      "Using a lambda function: \n",
      "[1, 4, 9]\n"
     ]
    }
   ],
   "source": [
    "lambda x: x**2 # x is the argument and the value of everything after the colon is the result\n",
    "\n",
    "print('Using a lambda function: ')\n",
    "print(list(map(lambda x: x**2, [1, 2, 3])))"
   ]
  },
  {
   "cell_type": "code",
   "execution_count": 21,
   "metadata": {},
   "outputs": [
    {
     "data": {
      "text/plain": [
       "6"
      ]
     },
     "execution_count": 21,
     "metadata": {},
     "output_type": "execute_result"
    }
   ],
   "source": [
    "(lambda *args: sum(args))(2, 2, 2)"
   ]
  },
  {
   "cell_type": "markdown",
   "metadata": {},
   "source": [
    "## Exceptions"
   ]
  },
  {
   "cell_type": "code",
   "execution_count": 22,
   "metadata": {},
   "outputs": [
    {
     "name": "stdout",
     "output_type": "stream",
     "text": [
      "invalid literal for int() with base 10: 'two'\n"
     ]
    }
   ],
   "source": [
    "try:\n",
    "    print(int('two'))\n",
    "except ValueError as e: # captures error in a variable\n",
    "    print(e)"
   ]
  },
  {
   "cell_type": "code",
   "execution_count": 23,
   "metadata": {},
   "outputs": [
    {
     "name": "stdout",
     "output_type": "stream",
     "text": [
      "Only run if no error.\n",
      "Run right before end of statement.\n"
     ]
    }
   ],
   "source": [
    "try:\n",
    "    int('2')\n",
    "except (ValueError, TypeError): # no errors here so this did not run\n",
    "    print('This is an error.')\n",
    "else: \n",
    "    print('Only run if no error.')\n",
    "finally: # No matter what, do this.\n",
    "    print('Run right before end of statement.')"
   ]
  },
  {
   "cell_type": "code",
   "execution_count": 24,
   "metadata": {},
   "outputs": [
    {
     "ename": "AssertionError",
     "evalue": "a does not equal b",
     "output_type": "error",
     "traceback": [
      "\u001b[1;31m---------------------------------------------------------------------------\u001b[0m",
      "\u001b[1;31mAssertionError\u001b[0m                            Traceback (most recent call last)",
      "\u001b[1;32m<ipython-input-24-3180b43c0b21>\u001b[0m in \u001b[0;36m<module>\u001b[1;34m\u001b[0m\n\u001b[0;32m      7\u001b[0m \u001b[0ma\u001b[0m \u001b[1;33m=\u001b[0m \u001b[1;36m0\u001b[0m\u001b[1;33m\u001b[0m\u001b[1;33m\u001b[0m\u001b[0m\n\u001b[0;32m      8\u001b[0m \u001b[0mb\u001b[0m \u001b[1;33m=\u001b[0m \u001b[1;36m10\u001b[0m\u001b[1;33m\u001b[0m\u001b[1;33m\u001b[0m\u001b[0m\n\u001b[1;32m----> 9\u001b[1;33m \u001b[1;32massert\u001b[0m \u001b[0ma\u001b[0m \u001b[1;33m==\u001b[0m \u001b[0mb\u001b[0m\u001b[1;33m,\u001b[0m \u001b[1;34m'a does not equal b'\u001b[0m\u001b[1;33m\u001b[0m\u001b[1;33m\u001b[0m\u001b[0m\n\u001b[0m",
      "\u001b[1;31mAssertionError\u001b[0m: a does not equal b"
     ]
    }
   ],
   "source": [
    "x = 10 \n",
    "if x != 10:\n",
    "    raise ValueError('x is not 10')\n",
    "    \n",
    "# to do something similar to above in a cleaner way using asserts\n",
    "\n",
    "a = 0\n",
    "b = 10\n",
    "assert a == b, 'a does not equal b' # anything falsey will raise an exception"
   ]
  },
  {
   "cell_type": "markdown",
   "metadata": {},
   "source": [
    "## Generators"
   ]
  },
  {
   "cell_type": "code",
   "execution_count": 25,
   "metadata": {},
   "outputs": [
    {
     "data": {
      "text/plain": [
       "<function __main__.hellos()>"
      ]
     },
     "execution_count": 25,
     "metadata": {},
     "output_type": "execute_result"
    }
   ],
   "source": [
    "def hellos():\n",
    "    yield 'hi' # will pause at each yield\n",
    "    yield 'hello'\n",
    "    yield 'whats up'\n",
    "    \n",
    "hellos"
   ]
  },
  {
   "cell_type": "code",
   "execution_count": 26,
   "metadata": {},
   "outputs": [
    {
     "data": {
      "text/plain": [
       "<generator object hellos at 0x00000245C4FDA1C8>"
      ]
     },
     "execution_count": 26,
     "metadata": {},
     "output_type": "execute_result"
    }
   ],
   "source": [
    "hello_object = hellos()\n",
    "hello_object"
   ]
  },
  {
   "cell_type": "code",
   "execution_count": 27,
   "metadata": {},
   "outputs": [
    {
     "name": "stdout",
     "output_type": "stream",
     "text": [
      "hi\n"
     ]
    }
   ],
   "source": [
    "print(next(hello_object))"
   ]
  },
  {
   "cell_type": "code",
   "execution_count": 28,
   "metadata": {},
   "outputs": [
    {
     "name": "stdout",
     "output_type": "stream",
     "text": [
      "hello\n"
     ]
    }
   ],
   "source": [
    "print(next(hello_object))"
   ]
  },
  {
   "cell_type": "code",
   "execution_count": 29,
   "metadata": {},
   "outputs": [
    {
     "name": "stdout",
     "output_type": "stream",
     "text": [
      "whats up\n"
     ]
    }
   ],
   "source": [
    "print(next(hello_object))"
   ]
  },
  {
   "cell_type": "code",
   "execution_count": 30,
   "metadata": {},
   "outputs": [
    {
     "ename": "StopIteration",
     "evalue": "",
     "output_type": "error",
     "traceback": [
      "\u001b[1;31m---------------------------------------------------------------------------\u001b[0m",
      "\u001b[1;31mStopIteration\u001b[0m                             Traceback (most recent call last)",
      "\u001b[1;32m<ipython-input-30-8d58f1580ada>\u001b[0m in \u001b[0;36m<module>\u001b[1;34m\u001b[0m\n\u001b[1;32m----> 1\u001b[1;33m \u001b[0mprint\u001b[0m\u001b[1;33m(\u001b[0m\u001b[0mnext\u001b[0m\u001b[1;33m(\u001b[0m\u001b[0mhello_object\u001b[0m\u001b[1;33m)\u001b[0m\u001b[1;33m)\u001b[0m\u001b[1;33m\u001b[0m\u001b[1;33m\u001b[0m\u001b[0m\n\u001b[0m",
      "\u001b[1;31mStopIteration\u001b[0m: "
     ]
    }
   ],
   "source": [
    "print(next(hello_object))"
   ]
  },
  {
   "cell_type": "code",
   "execution_count": 31,
   "metadata": {},
   "outputs": [
    {
     "data": {
      "text/plain": [
       "'hi'"
      ]
     },
     "execution_count": 31,
     "metadata": {},
     "output_type": "execute_result"
    }
   ],
   "source": [
    "# recall and rebind to restart\n",
    "hello_object = hellos()\n",
    "next(hello_object)"
   ]
  },
  {
   "cell_type": "code",
   "execution_count": 32,
   "metadata": {},
   "outputs": [
    {
     "name": "stdout",
     "output_type": "stream",
     "text": [
      "enter\n",
      "hi\n",
      "hello\n",
      "whats up\n",
      "exit\n"
     ]
    }
   ],
   "source": [
    "print('enter')\n",
    "for phrase in hellos():\n",
    "    print(phrase)\n",
    "print('exit')"
   ]
  },
  {
   "cell_type": "code",
   "execution_count": 33,
   "metadata": {},
   "outputs": [],
   "source": [
    "# range() is a generator\n",
    "def gen(x):\n",
    "    gen_out = range(x)\n",
    "    for i in gen_out:\n",
    "        yield i\n",
    "        \n",
    "# another way \n",
    "def gen(x):\n",
    "    yield from range(x)"
   ]
  },
  {
   "cell_type": "code",
   "execution_count": 34,
   "metadata": {},
   "outputs": [
    {
     "data": {
      "text/plain": [
       "1"
      ]
     },
     "execution_count": 34,
     "metadata": {},
     "output_type": "execute_result"
    }
   ],
   "source": [
    "# lists are not iterators, they are iterables so they cannot be stepped by next()\n",
    "# cast to an interator function \n",
    "l = [1, 2, 3]\n",
    "iterator = iter(l)\n",
    "next(iterator)"
   ]
  },
  {
   "cell_type": "code",
   "execution_count": 37,
   "metadata": {},
   "outputs": [
    {
     "name": "stdout",
     "output_type": "stream",
     "text": [
      "1\n",
      "2\n",
      "3\n"
     ]
    }
   ],
   "source": [
    "# above is what is happening behind the scenes for this for loop\n",
    "for item in [1, 2, 3]:\n",
    "    print(item)"
   ]
  },
  {
   "cell_type": "code",
   "execution_count": null,
   "metadata": {},
   "outputs": [],
   "source": []
  }
 ],
 "metadata": {
  "kernelspec": {
   "display_name": "Python 3",
   "language": "python",
   "name": "python3"
  },
  "language_info": {
   "codemirror_mode": {
    "name": "ipython",
    "version": 3
   },
   "file_extension": ".py",
   "mimetype": "text/x-python",
   "name": "python",
   "nbconvert_exporter": "python",
   "pygments_lexer": "ipython3",
   "version": "3.7.6"
  }
 },
 "nbformat": 4,
 "nbformat_minor": 4
}
